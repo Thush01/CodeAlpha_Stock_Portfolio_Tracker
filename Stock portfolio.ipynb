{
 "cells": [
  {
   "cell_type": "code",
   "execution_count": 30,
   "id": "97e0a5ee-3ee3-4402-ac4e-e4be134c8c25",
   "metadata": {
    "tags": []
   },
   "outputs": [
    {
     "name": "stdout",
     "output_type": "stream",
     "text": [
      "Defaulting to user installation because normal site-packages is not writeable\n",
      "Requirement already satisfied: requests in c:\\programdata\\anaconda3\\lib\\site-packages (2.31.0)\n",
      "Requirement already satisfied: charset-normalizer<4,>=2 in c:\\programdata\\anaconda3\\lib\\site-packages (from requests) (2.0.4)\n",
      "Requirement already satisfied: idna<4,>=2.5 in c:\\programdata\\anaconda3\\lib\\site-packages (from requests) (3.4)\n",
      "Requirement already satisfied: urllib3<3,>=1.21.1 in c:\\programdata\\anaconda3\\lib\\site-packages (from requests) (1.26.16)\n",
      "Requirement already satisfied: certifi>=2017.4.17 in c:\\programdata\\anaconda3\\lib\\site-packages (from requests) (2024.2.2)\n",
      "Note: you may need to restart the kernel to use updated packages.\n"
     ]
    }
   ],
   "source": [
    "pip install requests\n"
   ]
  },
  {
   "cell_type": "code",
   "execution_count": 31,
   "id": "9d694469-15ee-41c5-9c10-c411e6d9eb68",
   "metadata": {
    "tags": []
   },
   "outputs": [],
   "source": [
    "import requests"
   ]
  },
  {
   "cell_type": "code",
   "execution_count": 32,
   "id": "638eadea-e341-4acb-8c0c-838de7d746aa",
   "metadata": {
    "tags": []
   },
   "outputs": [],
   "source": [
    "API_KEY = 'G1HVHQLMC6HXL316'"
   ]
  },
  {
   "cell_type": "code",
   "execution_count": 33,
   "id": "bebb3eb8-144a-4c0f-b503-dc34994be01f",
   "metadata": {
    "tags": []
   },
   "outputs": [],
   "source": [
    "def  get_current_price(symbol):\n",
    " url = 'https://www.alphavantage.co/query?function=TIME_SERIES_INTRADAY&symbol=IBM&interval=5min&apikey=demo'\n",
    " r = requests.get(url)\n",
    " data = r.json()\n",
    "\n",
    " if 'Global Quote' in data:\n",
    "        return float(data['Global Quote']['05. price'])\n",
    " else:\n",
    "        print(f\"Error: Unable to retrieve current price for {symbol}\")\n",
    "        return None"
   ]
  },
  {
   "cell_type": "code",
   "execution_count": 37,
   "id": "94ff25e3-de10-4740-a674-bd126ee67300",
   "metadata": {},
   "outputs": [],
   "source": [
    "class Portfolio:\n",
    "    def __init__(self):\n",
    "        self.stocks = {}\n",
    "\n",
    "    def add_stock(self, symbol, quantity, purchase_price):\n",
    "        if symbol in self.stocks:\n",
    "            self.stocks[symbol]['quantity'] += quantity\n",
    "            self.stocks[symbol]['purchase_price'] = (self.stocks[symbol]['purchase_price'] + purchase_price) / 2\n",
    "        else:\n",
    "            self.stocks[symbol] = {'quantity': quantity, 'purchase_price': purchase_price}\n",
    "\n",
    "    def remove_stock(self, symbol, quantity):\n",
    "        if symbol in self.stocks:\n",
    "            self.stocks[symbol]['quantity'] -= quantity\n",
    "            if self.stocks[symbol]['quantity'] <= 0:\n",
    "                del self.stocks[symbol]\n",
    "        else:\n",
    "            print(f\"{symbol} not found in portfolio.\")\n",
    "\n",
    "    def calculate_performance(self):\n",
    "        total_investment = sum(stock['quantity'] * stock['purchase_price'] for stock in self.stocks.values())\n",
    "        current_value = 0\n",
    "\n",
    "        for symbol, stock in self.stocks.items():\n",
    "            current_price = get_current_price(symbol)\n",
    "            if current_price is not None:\n",
    "                current_value += stock['quantity'] * current_price\n",
    "            else:\n",
    "                print(f\"Skipping {symbol} due to inability to retrieve current price.\")\n",
    "\n",
    "        profit_loss = current_value - total_investment\n",
    "        overall_return = ((current_value - total_investment) / total_investment) * 100\n",
    "\n",
    "        return {\n",
    "            'total_investment': total_investment,\n",
    "            'current_value': current_value,\n",
    "            'profit_loss': profit_loss,\n",
    "            'overall_return': overall_return\n",
    "        }\n"
   ]
  },
  {
   "cell_type": "code",
   "execution_count": 38,
   "id": "464c576b-d24e-45fa-9a17-2a773fba3f9d",
   "metadata": {
    "tags": []
   },
   "outputs": [],
   "source": [
    "portfolio = Portfolio()\n",
    "portfolio.add_stock('AAPL', 10, 150.0)  \n",
    "portfolio.add_stock('GOOGL', 5, 2500.0)"
   ]
  },
  {
   "cell_type": "code",
   "execution_count": 39,
   "id": "51fb9f54-6b15-4bce-a2c9-f329df40ef00",
   "metadata": {
    "tags": []
   },
   "outputs": [
    {
     "name": "stdout",
     "output_type": "stream",
     "text": [
      "Error: Unable to retrieve current price for AAPL\n",
      "Skipping AAPL due to inability to retrieve current price.\n",
      "Error: Unable to retrieve current price for GOOGL\n",
      "Skipping GOOGL due to inability to retrieve current price.\n",
      "Portfolio Performance:\n",
      "Total Investment: $14000.0\n",
      "Current Value: $0\n",
      "Profit/Loss: $-14000.0\n",
      "Overall Return: -100.00%\n"
     ]
    }
   ],
   "source": [
    "performance = portfolio.calculate_performance()\n",
    "print(\"Portfolio Performance:\")\n",
    "print(f\"Total Investment: ${performance['total_investment']}\")\n",
    "print(f\"Current Value: ${performance['current_value']}\")\n",
    "print(f\"Profit/Loss: ${performance['profit_loss']}\")\n",
    "print(f\"Overall Return: {performance['overall_return']:.2f}%\")"
   ]
  },
  {
   "cell_type": "code",
   "execution_count": null,
   "id": "e57f99fa-d9df-4ab7-ab3a-ef980f707af7",
   "metadata": {},
   "outputs": [],
   "source": []
  }
 ],
 "metadata": {
  "kernelspec": {
   "display_name": "Python 3 (ipykernel)",
   "language": "python",
   "name": "python3"
  },
  "language_info": {
   "codemirror_mode": {
    "name": "ipython",
    "version": 3
   },
   "file_extension": ".py",
   "mimetype": "text/x-python",
   "name": "python",
   "nbconvert_exporter": "python",
   "pygments_lexer": "ipython3",
   "version": "3.11.5"
  }
 },
 "nbformat": 4,
 "nbformat_minor": 5
}
